{
 "cells": [
  {
   "cell_type": "code",
   "execution_count": null,
   "metadata": {},
   "outputs": [],
   "source": [
    "import torch\n",
    "import torch.nn as nn\n",
    "from torch.utils.data import Dataset, DataLoader\n",
    "import torchvision.io as io\n",
    "import os\n",
    "import json\n",
    "from tqdm import tqdm\n",
    "\n",
    "from PIL import Image\n",
    "import torchvision.transforms as transforms\n",
    "\n",
    "def resize_data(data, new_height, new_width, x=0, y=0, height=None, width=None):\n",
    "    full_height = data.shape[-2]\n",
    "    full_width = data.shape[-1]\n",
    "    height = full_height - y if height is None else height\n",
    "    width = full_width -x if width is None else width\n",
    "    \n",
    "\n",
    "    ratio = new_height/new_width\n",
    "    if height/width > ratio:\n",
    "        expand_height = height\n",
    "        expand_width = int(height / ratio)\n",
    "    elif height/width < ratio:\n",
    "        expand_height = int(width * ratio)\n",
    "        expand_width = width\n",
    "    else:\n",
    "        expand_height = height\n",
    "        expand_width = width\n",
    "    tr = transforms.Compose([\n",
    "        transforms.CenterCrop((expand_height, expand_width)),\n",
    "        transforms.Resize((new_height, new_width))\n",
    "    ])\n",
    "    return tr(data[...,y:min(y+height, full_height), x:min(x+width, full_width)])\n",
    "\n",
    "nb_frames = 10\n",
    "\n",
    "class TrainVideoDataset(Dataset):\n",
    "    def __init__(self, root_dir):\n",
    "        self.root_dir = root_dir\n",
    "        with open(os.path.join(root_dir, \"metadata.json\"), 'r') as file:\n",
    "            self.data= json.load(file)\n",
    "            self.data = {k : (torch.tensor(float(1)) if v == 'FAKE' else torch.tensor(float(0))) for k, v in self.data.items()}\n",
    "        self.video_files = [f for f in os.listdir(root_dir) if f.endswith('.mp4') and f in self.data.keys()]\n",
    "        \n",
    "\n",
    "    def __len__(self):\n",
    "        return len(self.video_files)\n",
    "    \n",
    "    def __getitem__(self, idx):\n",
    "        video_path = os.path.join(self.root_dir, self.video_files[idx])\n",
    "        video, audio, info = io.read_video(video_path, pts_unit='sec')\n",
    "\n",
    "        video = video.permute(0,3,1,2)\n",
    "        length = video.shape[0]\n",
    "        video = video[[i*(length//(nb_frames-1)) for i in range(nb_frames)]]\n",
    "        \n",
    "        video = torch.stack([resize_data(img, 380, 380)/255 for img in video])\n",
    "\n",
    "        label = self.data[self.video_files[idx]]\n",
    "        \n",
    "        return video, label\n",
    "\n",
    "\n",
    "    \n",
    "dataset=TrainVideoDataset(os.path.expanduser(\"~/training\"))"
   ]
  },
  {
   "cell_type": "code",
   "execution_count": null,
   "metadata": {},
   "outputs": [],
   "source": [
    "import matplotlib.pyplot as plt\n",
    "\n",
    "def display_image(img) :\n",
    "    img = img.permute(1,2,0)\n",
    "    plt.imshow(img)\n",
    "\n",
    "video, label = dataset[0]\n",
    "img = video[0]\n",
    "\n",
    "display_image(img)\n",
    "print(label)\n",
    "print(video.shape)"
   ]
  },
  {
   "cell_type": "code",
   "execution_count": null,
   "metadata": {},
   "outputs": [],
   "source": [
    "video, label = dataset[30]\n",
    "img=video[0]\n",
    "\n",
    "print(img.shape)\n",
    "img=resize_data(img, 380, 380)\n",
    "display_image(img)"
   ]
  },
  {
   "cell_type": "markdown",
   "metadata": {},
   "source": [
    "Modèle"
   ]
  },
  {
   "cell_type": "code",
   "execution_count": null,
   "metadata": {},
   "outputs": [],
   "source": [
    "class DeepfakeDetector(nn.Module):\n",
    "    def __init__(self):\n",
    "        super().__init__()\n",
    "        self.dense=nn.Linear(nb_frames*3*380*380,1)\n",
    "        self.flat=nn.Flatten()\n",
    "        \n",
    "    def forward(self, x):\n",
    "        y=self.flat(x)\n",
    "        y=self.dense(y)\n",
    "        return y"
   ]
  },
  {
   "cell_type": "markdown",
   "metadata": {},
   "source": [
    "Boucle d'entraînement"
   ]
  },
  {
   "cell_type": "code",
   "execution_count": null,
   "metadata": {},
   "outputs": [],
   "source": [
    "device = torch.device(\"cuda\" if torch.cuda.is_available() else \"cpu\")\n",
    "loss_fn = nn.MSELoss()\n",
    "model = DeepfakeDetector().to(device)\n",
    "\n",
    "\n",
    "optimizer = torch.optim.Adam(model.parameters(), lr=0.001)\n",
    "\n",
    "max_iters = 4\n",
    "nb_epochs = 5\n",
    "\n",
    "loader = DataLoader(dataset, batch_size=2, shuffle=True)\n",
    "\n",
    "for epoch in range(nb_epochs) :\n",
    "    pbar = tqdm(loader, desc=\"Epoch {}\".format(epoch), ncols=0)\n",
    "    for sample in pbar:\n",
    "        optimizer.zero_grad()\n",
    "\n",
    "        X, label = sample\n",
    "        \n",
    "        X = X.to(device)\n",
    "        label = label.to(device)\n",
    "        label_pred = model(X)\n",
    "        label=torch.unsqueeze(label,dim=1)\n",
    "        loss = loss_fn(label, label_pred)\n",
    "        loss.backward()\n",
    "        optimizer.step()\n",
    "        print(f\"Loss {loss.item():.4f}\")\n",
    "    pbar.close()"
   ]
  },
  {
   "cell_type": "markdown",
   "metadata": {},
   "source": [
    "Boucle de test"
   ]
  },
  {
   "cell_type": "code",
   "execution_count": null,
   "metadata": {},
   "outputs": [],
   "source": [
    "#npy, np.save\n",
    "\n",
    "class TestVideoDataset(Dataset):\n",
    "    def __init__(self, root_dir):\n",
    "        self.root_dir = root_dir\n",
    "        self.video_files = [f for f in os.listdir(root_dir) if f.endswith('.mp4')]\n",
    "        with open(root_dir+\"\\metadata.json\", 'r') as file :\n",
    "            self.data= json.load(file)\n",
    "\n",
    "    def __len__(self):\n",
    "        return len(self.video_files)\n",
    "    \n",
    "    def __getitem__(self, idx):\n",
    "        video_path = os.path.join(self.root_dir, self.video_files[idx])\n",
    "        video, audio, info = io.read_video(video_path, pts_unit='sec')\n",
    "\n",
    "        return video.permute(0,3,1,2), self.data[self.video_files[idx]]"
   ]
  }
 ],
 "metadata": {
  "kernelspec": {
   "display_name": ".venv",
   "language": "python",
   "name": "python3"
  },
  "language_info": {
   "codemirror_mode": {
    "name": "ipython",
    "version": 3
   },
   "file_extension": ".py",
   "mimetype": "text/x-python",
   "name": "python",
   "nbconvert_exporter": "python",
   "pygments_lexer": "ipython3",
   "version": "3.10.13"
  }
 },
 "nbformat": 4,
 "nbformat_minor": 2
}
